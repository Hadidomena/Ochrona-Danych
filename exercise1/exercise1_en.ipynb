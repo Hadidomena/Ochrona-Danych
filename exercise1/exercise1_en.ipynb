{
 "cells": [
  {
   "cell_type": "markdown",
   "id": "7ec60859",
   "metadata": {},
   "source": [
    "# Exercise 1: Classical Cipher Cryptanalysis\n",
    "\n",
    "## Objectives\n",
    "1. **Caesar/ROT Cipher Breaking** - Frequency analysis, chi-squared test, bigram analysis\n",
    "2. **RC4 Brute Force** - Breaking short-key RC4 encryption using entropy validation\n",
    "\n",
    "## Part 1: Caesar Cipher (Cyclic Substitution)\n",
    "\n",
    "### What is Caesar Cipher?\n",
    "Simple substitution cipher where each letter is shifted by a fixed number of positions in the alphabet.\n",
    "\n",
    "Example with shift=3:\n",
    "```\n",
    "Plaintext:  HELLO\n",
    "Ciphertext: KHOOR\n",
    "```\n",
    "\n",
    "### Key Space\n",
    "For alphabet of size $n$: only $n-1$ possible shifts (shift=0 is identity)\n",
    "- English (26 letters): 25 possible keys\n",
    "- French (33 chars): 32 possible keys  \n",
    "- Polish (32 chars): 31 possible keys"
   ]
  },
  {
   "cell_type": "markdown",
   "id": "d929c313",
   "metadata": {},
   "source": [
    "## Attack Method 1: Frequency Analysis\n",
    "\n",
    "### Principle\n",
    "Each language has characteristic letter frequencies. By comparing ciphertext frequencies with expected language frequencies, we can identify the shift.\n",
    "\n",
    "### Chi-Squared Test\n",
    "Statistical measure of how well observed frequencies match expected:\n",
    "\n",
    "$$\\chi^2 = \\sum_{i} \\frac{(O_i - E_i)^2}{E_i}$$\n",
    "\n",
    "where:\n",
    "- $O_i$ = observed frequency of character $i$\n",
    "- $E_i$ = expected frequency of character $i$\n",
    "\n",
    "**Lower $\\chi^2$ = better match**"
   ]
  },
  {
   "cell_type": "markdown",
   "id": "eb56c21b",
   "metadata": {},
   "source": [
    "## Attack Method 2: Smart Frequency Attack\n",
    "\n",
    "### Optimization\n",
    "Instead of testing all shifts, predict the most likely shift:\n",
    "\n",
    "1. Find most frequent character in ciphertext\n",
    "2. Assume it corresponds to most frequent character in language\n",
    "3. Calculate predicted shift\n",
    "4. Verify with chi-squared test\n",
    "\n",
    "**Complexity**: O(n) instead of O(n²)"
   ]
  },
  {
   "cell_type": "markdown",
   "id": "952d06e7",
   "metadata": {},
   "source": [
    "## Attack Method 3: Bigram Analysis\n",
    "\n",
    "### What are bigrams?\n",
    "Two-character sequences (e.g., \"th\", \"he\", \"in\" in English)\n",
    "\n",
    "### Method\n",
    "1. For each possible shift, shift common bigrams\n",
    "2. Count occurrences of shifted bigrams in ciphertext\n",
    "3. Shift with highest bigram score is likely correct\n",
    "\n",
    "### Example\n",
    "```\n",
    "Common English bigrams: [\"th\", \"he\", \"in\"]\n",
    "Shift=3: [\"wk\", \"kh\", \"lq\"]\n",
    "Count these patterns in ciphertext\n",
    "```"
   ]
  },
  {
   "cell_type": "markdown",
   "id": "99bf2bc7",
   "metadata": {},
   "source": [
    "## Part 2: RC4 Stream Cipher\n",
    "\n",
    "### What is RC4?\n",
    "- Stream cipher (encrypts byte-by-byte)\n",
    "- Key-scheduling algorithm (KSA) + Pseudo-random generation algorithm (PRGA)\n",
    "- Generates keystream XORed with plaintext\n",
    "\n",
    "### Vulnerability\n",
    "**Short keys** (e.g., 3 characters [a-z]) can be brute-forced:\n",
    "- Key space: $26^3 = 17,576$ combinations\n",
    "- Feasible in seconds on modern hardware"
   ]
  },
  {
   "cell_type": "markdown",
   "id": "6f0b0749",
   "metadata": {},
   "source": [
    "## Entropy-Based Validation\n",
    "\n",
    "### Shannon Entropy\n",
    "Measure of randomness/unpredictability in data:\n",
    "\n",
    "$$H(X) = -\\sum_{i=1}^{n} P(x_i) \\log_2 P(x_i)$$\n",
    "\n",
    "### Thresholds\n",
    "- **Encrypted data**: 7.5-8.0 bits/byte (highly random)\n",
    "- **Natural language**: 4.5-5.5 bits/byte (patterns present)\n",
    "- **Validation**: Entropy < 7.0 suggests successful decryption\n",
    "\n",
    "### Additional Checks\n",
    "- Printable character ratio > 80%\n",
    "- UTF-8 decoding success"
   ]
  },
  {
   "cell_type": "markdown",
   "id": "1f55e3e7",
   "metadata": {},
   "source": [
    "## Implementation Notes\n",
    "\n",
    "### Multilingual Support\n",
    "The code supports three languages with different character sets:\n",
    "```python\n",
    "ALPHABETS = {\n",
    "    'english': \"abcdefghijklmnopqrstuvwxyz\",\n",
    "    'french': \"abcdefghijklmnopqrstuvwxyzàâäéèêëïîôöùûüÿç\",\n",
    "    'polish': \"abcdefghijklmnopqrstuvwxyząćęłńóśźż\"\n",
    "}\n",
    "```\n",
    "\n",
    "### File Handling\n",
    "- UTF-8 with latin-1 fallback for reading\n",
    "- Results saved to `../decrypted/` directory"
   ]
  },
  {
   "cell_type": "markdown",
   "id": "918ac308",
   "metadata": {},
   "source": [
    "## Security Lessons\n",
    "\n",
    "### Why Caesar Cipher is Insecure\n",
    "1. **Tiny key space** - Only 25-32 possible keys\n",
    "2. **Statistical patterns preserved** - Letter frequencies remain\n",
    "3. **No diffusion** - Each character encrypted independently\n",
    "\n",
    "### Why Short RC4 Keys are Insecure\n",
    "1. **Brute-forceable** - 17,576 combinations for 3-char keys\n",
    "2. **No authentication** - No way to verify decryption\n",
    "3. **RC4 weaknesses** - Known biases in keystream\n",
    "\n",
    "### Modern Alternatives\n",
    "- **Encryption**: AES-256 in GCM mode\n",
    "- **Key derivation**: Argon2, PBKDF2\n",
    "- **Key length**: Minimum 128 bits of entropy"
   ]
  }
 ],
 "metadata": {
  "language_info": {
   "name": "python"
  }
 },
 "nbformat": 4,
 "nbformat_minor": 5
}
